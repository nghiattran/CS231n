{
 "cells": [
  {
   "cell_type": "markdown",
   "metadata": {},
   "source": [
    "# Softmax exercise\n",
    "\n",
    "*Complete and hand in this completed worksheet (including its outputs and any supporting code outside of the worksheet) with your assignment submission. For more details see the [assignments page](http://vision.stanford.edu/teaching/cs231n/assignments.html) on the course website.*\n",
    "\n",
    "This exercise is analogous to the SVM exercise. You will:\n",
    "\n",
    "- implement a fully-vectorized **loss function** for the Softmax classifier\n",
    "- implement the fully-vectorized expression for its **analytic gradient**\n",
    "- **check your implementation** with numerical gradient\n",
    "- use a validation set to **tune the learning rate and regularization** strength\n",
    "- **optimize** the loss function with **SGD**\n",
    "- **visualize** the final learned weights\n"
   ]
  },
  {
   "cell_type": "code",
   "execution_count": 1,
   "metadata": {
    "collapsed": false
   },
   "outputs": [],
   "source": [
    "import random\n",
    "import numpy as np\n",
    "from cs231n.data_utils import load_CIFAR10\n",
    "import matplotlib.pyplot as plt\n",
    "%matplotlib inline\n",
    "plt.rcParams['figure.figsize'] = (10.0, 8.0) # set default size of plots\n",
    "plt.rcParams['image.interpolation'] = 'nearest'\n",
    "plt.rcParams['image.cmap'] = 'gray'\n",
    "\n",
    "# for auto-reloading extenrnal modules\n",
    "# see http://stackoverflow.com/questions/1907993/autoreload-of-modules-in-ipython\n",
    "%load_ext autoreload\n",
    "%autoreload 2"
   ]
  },
  {
   "cell_type": "code",
   "execution_count": 2,
   "metadata": {
    "collapsed": false
   },
   "outputs": [
    {
     "name": "stdout",
     "output_type": "stream",
     "text": [
      "Train data shape:  (49000, 3073)\n",
      "Train labels shape:  (49000,)\n",
      "Validation data shape:  (1000, 3073)\n",
      "Validation labels shape:  (1000,)\n",
      "Test data shape:  (1000, 3073)\n",
      "Test labels shape:  (1000,)\n",
      "dev data shape:  (500, 3073)\n",
      "dev labels shape:  (500,)\n"
     ]
    }
   ],
   "source": [
    "def get_CIFAR10_data(num_training=49000, num_validation=1000, num_test=1000, num_dev=500):\n",
    "  \"\"\"\n",
    "  Load the CIFAR-10 dataset from disk and perform preprocessing to prepare\n",
    "  it for the linear classifier. These are the same steps as we used for the\n",
    "  SVM, but condensed to a single function.  \n",
    "  \"\"\"\n",
    "  # Load the raw CIFAR-10 data\n",
    "  cifar10_dir = 'cs231n/datasets/cifar-10-batches-py'\n",
    "  X_train, y_train, X_test, y_test = load_CIFAR10(cifar10_dir)\n",
    "  \n",
    "  # subsample the data\n",
    "  mask = range(num_training, num_training + num_validation)\n",
    "  X_val = X_train[mask]\n",
    "  y_val = y_train[mask]\n",
    "  mask = range(num_training)\n",
    "  X_train = X_train[mask]\n",
    "  y_train = y_train[mask]\n",
    "  mask = range(num_test)\n",
    "  X_test = X_test[mask]\n",
    "  y_test = y_test[mask]\n",
    "  mask = np.random.choice(num_training, num_dev, replace=False)\n",
    "  X_dev = X_train[mask]\n",
    "  y_dev = y_train[mask]\n",
    "  \n",
    "  # Preprocessing: reshape the image data into rows\n",
    "  X_train = np.reshape(X_train, (X_train.shape[0], -1))\n",
    "  X_val = np.reshape(X_val, (X_val.shape[0], -1))\n",
    "  X_test = np.reshape(X_test, (X_test.shape[0], -1))\n",
    "  X_dev = np.reshape(X_dev, (X_dev.shape[0], -1))\n",
    "  \n",
    "  # Normalize the data: subtract the mean image\n",
    "  mean_image = np.mean(X_train, axis = 0)\n",
    "  X_train -= mean_image\n",
    "  X_val -= mean_image\n",
    "  X_test -= mean_image\n",
    "  X_dev -= mean_image\n",
    "  \n",
    "  # add bias dimension and transform into columns\n",
    "  X_train = np.hstack([X_train, np.ones((X_train.shape[0], 1))])\n",
    "  X_val = np.hstack([X_val, np.ones((X_val.shape[0], 1))])\n",
    "  X_test = np.hstack([X_test, np.ones((X_test.shape[0], 1))])\n",
    "  X_dev = np.hstack([X_dev, np.ones((X_dev.shape[0], 1))])\n",
    "  \n",
    "  return X_train, y_train, X_val, y_val, X_test, y_test, X_dev, y_dev\n",
    "\n",
    "\n",
    "# Invoke the above function to get our data.\n",
    "X_train, y_train, X_val, y_val, X_test, y_test, X_dev, y_dev = get_CIFAR10_data()\n",
    "print 'Train data shape: ', X_train.shape\n",
    "print 'Train labels shape: ', y_train.shape\n",
    "print 'Validation data shape: ', X_val.shape\n",
    "print 'Validation labels shape: ', y_val.shape\n",
    "print 'Test data shape: ', X_test.shape\n",
    "print 'Test labels shape: ', y_test.shape\n",
    "print 'dev data shape: ', X_dev.shape\n",
    "print 'dev labels shape: ', y_dev.shape"
   ]
  },
  {
   "cell_type": "markdown",
   "metadata": {},
   "source": [
    "## Softmax Classifier\n",
    "\n",
    "Your code for this section will all be written inside **cs231n/classifiers/softmax.py**. \n"
   ]
  },
  {
   "cell_type": "code",
   "execution_count": 3,
   "metadata": {
    "collapsed": false
   },
   "outputs": [
    {
     "name": "stdout",
     "output_type": "stream",
     "text": [
      "loss: 2.376834\n",
      "sanity check: 2.302585\n",
      "loss: 2.376834\n",
      "sanity check: 2.302585\n"
     ]
    }
   ],
   "source": [
    "# First im|plement the naive softmax loss function with nested loops.\n",
    "# Open the file cs231n/classifiers/softmax.py and implement the\n",
    "# softmax_loss_naive function.\n",
    "\n",
    "from cs231n.classifiers.softmax import softmax_loss_naive, softmax_loss_naive1\n",
    "import time\n",
    "\n",
    "# Generate a random softmax weight matrix and use it to compute the loss.\n",
    "W = np.random.randn(3073, 10) * 0.0001\n",
    "loss, grad = softmax_loss_naive(W, X_dev, y_dev, 0.0)\n",
    "\n",
    "# As a rough sanity check, our loss should be something close to -log(0.1).\n",
    "print 'loss: %f' % loss\n",
    "print 'sanity check: %f' % (-np.log(0.1))\n",
    "\n",
    "loss, grad = softmax_loss_naive1(W, X_dev, y_dev, 0.0)\n",
    "\n",
    "# As a rough sanity check, our loss should be something close to -log(0.1).\n",
    "print 'loss: %f' % loss\n",
    "print 'sanity check: %f' % (-np.log(0.1))"
   ]
  },
  {
   "cell_type": "markdown",
   "metadata": {},
   "source": [
    "## Inline Question 1:\n",
    "Why do we expect our loss to be close to -log(0.1)? Explain briefly.**\n",
    "\n",
    "**Your answer:** *Fill this in*\n"
   ]
  },
  {
   "cell_type": "code",
   "execution_count": 4,
   "metadata": {
    "collapsed": false
   },
   "outputs": [
    {
     "name": "stdout",
     "output_type": "stream",
     "text": [
      "numerical: -0.806010 analytic: -0.806010, relative error: 5.555118e-10\n",
      "numerical: -0.063249 analytic: -0.063249, relative error: 3.009412e-07\n",
      "numerical: -0.426704 analytic: -0.426704, relative error: 4.923423e-08\n",
      "numerical: -4.859620 analytic: -4.859620, relative error: 2.449021e-09\n",
      "numerical: -0.109323 analytic: -0.109323, relative error: 3.478604e-07\n",
      "numerical: 3.199955 analytic: 3.199955, relative error: 1.614051e-08\n",
      "numerical: 1.706647 analytic: 1.706647, relative error: 1.702585e-08\n",
      "numerical: 0.860469 analytic: 0.860469, relative error: 3.671261e-08\n",
      "numerical: -0.186101 analytic: -0.186101, relative error: 5.578223e-08\n",
      "numerical: -4.415121 analytic: -4.415121, relative error: 1.275675e-08\n",
      "numerical: 0.151037 analytic: 0.151037, relative error: 3.670012e-07\n",
      "numerical: 2.202587 analytic: 2.202587, relative error: 4.626035e-08\n",
      "numerical: 1.129592 analytic: 1.129592, relative error: 4.616984e-08\n",
      "numerical: 0.142414 analytic: 0.142414, relative error: 4.211893e-08\n",
      "numerical: -3.020017 analytic: -3.020017, relative error: 1.173643e-08\n",
      "numerical: 0.183780 analytic: 0.183780, relative error: 6.334925e-08\n",
      "numerical: 2.111066 analytic: 2.111066, relative error: 2.331435e-08\n",
      "numerical: 0.970967 analytic: 0.970967, relative error: 3.495259e-08\n",
      "numerical: 2.035929 analytic: 2.035929, relative error: 1.369030e-08\n",
      "numerical: -1.283606 analytic: -1.283606, relative error: 1.397381e-08\n"
     ]
    }
   ],
   "source": [
    "# Complete the implementation of softmax_loss_naive and implement a (naive)\n",
    "# version of the gradient that uses nested loops.\n",
    "loss, grad = softmax_loss_naive(W, X_dev, y_dev, 0.0)\n",
    "\n",
    "# As we did for the SVM, use numeric gradient checking as a debugging tool.\n",
    "# The numeric gradient should be close to the analytic gradient.\n",
    "from cs231n.gradient_check import grad_check_sparse\n",
    "f = lambda w: softmax_loss_naive(w, X_dev, y_dev, 0.0)[0]\n",
    "grad_numerical = grad_check_sparse(f, W, grad, 10)\n",
    "\n",
    "# similar to SVM case, do another gradient check with regularization\n",
    "loss, grad = softmax_loss_naive(W, X_dev, y_dev, 1e2)\n",
    "f = lambda w: softmax_loss_naive(w, X_dev, y_dev, 1e2)[0]\n",
    "grad_numerical = grad_check_sparse(f, W, grad, 10)"
   ]
  },
  {
   "cell_type": "code",
   "execution_count": 5,
   "metadata": {
    "collapsed": false
   },
   "outputs": [
    {
     "name": "stdout",
     "output_type": "stream",
     "text": [
      "naive loss: 2.376834e+00 computed in 0.348276s\n",
      "vectorized loss: 2.376834e+00 computed in 0.015631s\n",
      "Loss difference: 0.000000\n",
      "Gradient difference: 0.000000\n"
     ]
    }
   ],
   "source": [
    "# Now that we have a naive implementation of the softmax loss function and its gradient,\n",
    "# implement a vectorized version in softmax_loss_vectorized.\n",
    "# The two versions should compute the same results, but the vectorized version should be\n",
    "# much faster.\n",
    "tic = time.time()\n",
    "loss_naive, grad_naive = softmax_loss_naive(W, X_dev, y_dev, 0.00001)\n",
    "toc = time.time()\n",
    "print 'naive loss: %e computed in %fs' % (loss_naive, toc - tic)\n",
    "\n",
    "from cs231n.classifiers.softmax import softmax_loss_vectorized\n",
    "tic = time.time()\n",
    "loss_vectorized, grad_vectorized = softmax_loss_vectorized(W, X_dev, y_dev, 0.00001)\n",
    "toc = time.time()\n",
    "print 'vectorized loss: %e computed in %fs' % (loss_vectorized, toc - tic)\n",
    "\n",
    "# As we did for the SVM, we use the Frobenius norm to compare the two versions\n",
    "# of the gradient.\n",
    "grad_difference = np.linalg.norm(grad_naive - grad_vectorized, ord='fro')\n",
    "print 'Loss difference: %f' % np.abs(loss_naive - loss_vectorized)\n",
    "print 'Gradient difference: %f' % grad_difference"
   ]
  },
  {
   "cell_type": "code",
   "execution_count": 6,
   "metadata": {
    "collapsed": false
   },
   "outputs": [
    {
     "name": "stderr",
     "output_type": "stream",
     "text": [
      "cs231n/classifiers/softmax.py:132: RuntimeWarning: divide by zero encountered in log\n",
      "  loss = np.sum(-np.log(p[np.arange(num_train), y]))\n",
      "cs231n/classifiers/softmax.py:139: RuntimeWarning: overflow encountered in double_scalars\n",
      "  loss += 0.5 * reg * np.sum(W * W)\n",
      "cs231n/classifiers/softmax.py:139: RuntimeWarning: overflow encountered in multiply\n",
      "  loss += 0.5 * reg * np.sum(W * W)\n",
      "cs231n/classifiers/softmax.py:141: RuntimeWarning: overflow encountered in multiply\n",
      "  dW += reg * W\n"
     ]
    },
    {
     "name": "stdout",
     "output_type": "stream",
     "text": [
      "lr 1.002653e-01 reg 8.700000e-02 train accuracy: 0.100265 val accuracy: 0.087000\n",
      "lr 3.102245e-01 reg 3.180000e-01 train accuracy: 0.310224 val accuracy: 0.318000\n",
      "lr 3.220816e-01 reg 3.260000e-01 train accuracy: 0.322082 val accuracy: 0.326000\n",
      "best validation accuracy achieved during cross-validation: 0.326000\n"
     ]
    }
   ],
   "source": [
    "# Use the validation set to tune hyperparameters (regularization strength and\n",
    "# learning rate). You should experiment with different ranges for the learning\n",
    "# rates and regularization strengths; if you are careful you should be able to\n",
    "# get a classification accuracy of over 0.35 on the validation set.\n",
    "from cs231n.classifiers import Softmax\n",
    "results = {}\n",
    "best_val = -1\n",
    "best_softmax = None\n",
    "learning_rates = [1e-7, 5e-7]\n",
    "regularization_strengths = [5e4, 1e8]\n",
    "\n",
    "################################################################################\n",
    "# TODO:                                                                        #\n",
    "# Use the validation set to set the learning rate and regularization strength. #\n",
    "# This should be identical to the validation that you did for the SVM; save    #\n",
    "# the best trained softmax classifer in best_softmax.                          #\n",
    "################################################################################\n",
    "for rate in learning_rates:\n",
    "    for reg in regularization_strengths:\n",
    "        softmax = Softmax()\n",
    "        loss_hist = softmax.train(X_train, y_train, learning_rate=rate, reg=reg,\n",
    "                      num_iters=500)\n",
    "        y_val_pred = softmax.predict(X_val)\n",
    "        y_val_pred = np.mean(y_val == y_val_pred)\n",
    "        \n",
    "        y_train_pred = softmax.predict(X_train)\n",
    "        y_train_pred = np.mean(y_train == y_train_pred)\n",
    "        results[(y_train_pred, y_val_pred)] = (y_train_pred, y_val_pred)\n",
    "        if y_val_pred > best_val:\n",
    "            best_val = y_val_pred\n",
    "            best_softmax = softmax\n",
    "            results\n",
    "################################################################################\n",
    "#                              END OF YOUR CODE                                #\n",
    "################################################################################\n",
    "    \n",
    "# Print out results.\n",
    "for lr, reg in sorted(results):\n",
    "    train_accuracy, val_accuracy = results[(lr, reg)]\n",
    "    print 'lr %e reg %e train accuracy: %f val accuracy: %f' % (\n",
    "                lr, reg, train_accuracy, val_accuracy)\n",
    "    \n",
    "print 'best validation accuracy achieved during cross-validation: %f' % best_val"
   ]
  },
  {
   "cell_type": "code",
   "execution_count": 7,
   "metadata": {
    "collapsed": false
   },
   "outputs": [
    {
     "name": "stdout",
     "output_type": "stream",
     "text": [
      "[3 8 8 0 6 6 1 6 3 1 0 9 5 7 9 8 5 7 8 6 7 0 4 9 5 2 4 0 9 6 6 5 4 5 9 2 4\n",
      " 1 9 5 4 6 5 6 0 9 3 9 7 6 9 8 0 3 8 8 7 7 4 6 7 3 6 3 6 2 1 2 3 7 2 6 8 8\n",
      " 0 2 9 3 3 8 8 1 1 7 2 5 2 7 8 9 0 3 8 6 4 6 6 0 0 7 4 5 6 3 1 1 3 6 8 7 4\n",
      " 0 6 2 1 3 0 4 2 7 8 3 1 2 8 0 8 3 5 2 4 1 8 9 1 2 9 7 2 9 6 5 6 3 8 7 6 2\n",
      " 5 2 8 9 6 0 0 5 2 9 5 4 2 1 6 6 8 4 8 4 5 0 9 9 9 8 9 9 3 7 5 0 0 5 2 2 3\n",
      " 8 6 3 4 0 5 8 0 1 7 2 8 8 7 8 5 1 8 7 1 3 0 5 7 9 7 4 5 9 8 0 7 9 8 2 7 6\n",
      " 9 4 3 9 6 4 7 6 5 1 5 8 8 0 4 0 5 5 1 1 8 9 0 3 1 9 2 2 5 3 9 9 4 0 3 0 0\n",
      " 9 8 1 5 7 0 8 2 4 7 0 2 3 6 3 8 5 0 3 4 3 9 0 6 1 0 9 1 0 7 9 1 2 6 9 3 4\n",
      " 6 0 0 6 6 6 3 2 6 1 8 2 1 6 8 6 8 0 4 0 7 7 5 5 3 5 2 3 4 1 7 5 4 6 1 9 3\n",
      " 6 6 9 3 8 0 7 2 6 2 5 8 5 4 6 8 9 9 1 0 2 2 7 3 2 8 0 9 5 8 1 9 4 1 3 8 1\n",
      " 4 7 9 4 2 7 0 7 0 6 6 9 0 9 2 8 7 2 2 5 1 2 6 2 9 6 2 3 0 3 9 8 7 8 8 4 0\n",
      " 1 8 2 7 9 3 6 1 9 0 7 3 7 4 5 0 0 2 9 3 4 0 6 2 5 3 7 3 7 2 5 3 1 1 4 9 9\n",
      " 5 7 5 0 2 2 2 9 7 3 9 4 3 5 4 6 5 6 1 4 3 4 4 3 7 8 3 7 8 0 5 7 6 0 5 4 8\n",
      " 6 8 5 5 9 9 9 5 0 1 0 8 1 1 8 0 2 2 0 4 6 5 4 9 4 7 9 9 4 5 6 6 1 5 3 8 9\n",
      " 5 8 5 7 0 7 0 5 0 0 4 6 9 0 9 5 6 6 6 2 9 0 1 7 6 7 5 9 1 6 2 5 5 5 8 5 9\n",
      " 4 6 4 3 2 0 7 6 2 2 3 9 7 9 2 6 7 1 3 6 6 8 9 7 5 4 0 8 4 0 9 3 4 8 9 6 9\n",
      " 2 6 1 4 7 3 5 3 8 5 0 2 1 6 4 3 3 9 6 9 8 8 5 8 6 6 2 1 7 7 1 2 7 9 9 4 4\n",
      " 1 2 5 6 8 7 6 8 3 0 5 5 3 0 7 9 1 3 4 4 5 3 9 5 6 9 2 1 1 4 1 9 4 7 6 3 8\n",
      " 9 0 1 3 6 3 6 3 2 0 3 1 0 5 9 6 4 8 9 6 9 6 3 0 3 2 2 7 8 3 8 2 7 5 7 2 4\n",
      " 8 7 4 2 9 8 8 6 8 8 7 4 3 3 8 4 9 4 8 8 1 8 2 1 3 6 5 4 2 7 9 9 4 1 4 1 3\n",
      " 2 7 0 7 9 7 6 6 2 5 9 2 9 1 2 2 6 8 2 1 3 6 6 0 1 2 7 0 5 4 6 1 6 4 0 2 2\n",
      " 6 0 5 9 1 7 6 7 0 3 9 6 8 3 0 3 4 7 7 1 4 7 2 7 1 4 7 4 4 8 4 7 7 5 3 7 2\n",
      " 0 8 9 5 8 3 6 2 0 8 7 3 7 6 5 3 1 3 2 2 5 4 1 2 9 2 7 0 7 2 1 3 2 0 2 4 7\n",
      " 9 8 9 0 7 7 0 7 8 4 6 3 3 0 1 3 7 0 1 3 1 4 2 3 8 4 2 3 7 8 4 3 0 9 0 0 1\n",
      " 0 4 4 6 7 6 1 1 3 7 3 5 2 6 6 5 8 7 1 6 8 8 5 3 0 4 0 1 3 8 8 0 6 9 9 9 5\n",
      " 5 8 6 0 0 4 2 3 2 7 2 2 5 9 8 9 1 7 4 0 3 0 1 3 8 3 9 6 1 4 7 0 3 7 8 9 1\n",
      " 1 6 6 6 6 9 1 9 9 4 2 1 7 0 6 8 1 9 2 9 0 4 7 8 3 1 2 0 1 5 8 4 6 3 8 1 3\n",
      " 8]\n",
      "[6 8 8 8 5 6 6 6 5 8 0 9 5 1 9 8 5 4 9 6 9 0 0 6 4 1 6 9 9 6 6 5 5 6 9 6 6\n",
      " 9 9 5 0 6 9 6 8 9 5 8 6 6 9 8 6 9 8 8 5 6 8 4 4 6 6 9 6 6 1 0 9 9 0 6 8 8\n",
      " 9 4 9 5 6 0 8 6 6 0 0 9 8 8 8 9 8 6 8 9 6 3 6 0 0 9 4 4 5 2 1 9 5 6 5 5 6\n",
      " 0 6 2 9 9 0 9 6 5 9 6 1 2 0 6 8 5 4 0 4 9 9 7 0 0 9 0 6 8 4 8 0 5 8 8 6 5\n",
      " 5 5 9 1 1 0 0 5 0 9 6 9 0 6 1 6 8 9 8 6 9 9 8 9 9 8 9 9 0 6 3 0 8 0 6 8 7\n",
      " 0 6 4 0 8 5 5 2 5 6 6 9 0 7 5 7 9 0 7 1 5 8 5 7 8 7 9 0 9 9 0 9 9 0 4 7 6\n",
      " 8 6 9 9 9 0 0 7 5 9 6 3 8 0 6 9 0 0 1 8 9 8 0 4 7 8 5 6 7 5 6 6 2 0 6 8 8\n",
      " 6 5 8 1 9 0 8 8 6 9 0 5 3 6 5 9 2 9 4 7 5 9 6 0 9 9 9 8 0 7 9 1 6 6 8 5 4\n",
      " 6 0 0 6 6 6 7 8 5 8 9 0 1 6 8 5 0 0 7 0 1 7 5 3 5 5 6 5 6 9 8 6 0 4 5 9 6\n",
      " 6 6 9 3 8 0 9 5 5 0 5 8 3 4 6 0 9 9 6 9 0 5 2 5 7 1 9 6 5 8 8 9 9 6 8 0 6\n",
      " 6 8 9 8 6 9 8 8 8 6 1 9 0 0 6 0 9 6 2 4 1 8 6 5 9 6 4 3 8 9 9 1 9 8 9 6 0\n",
      " 9 0 0 9 8 4 6 9 9 0 1 5 9 6 4 8 6 5 8 5 4 9 0 1 5 5 9 9 4 9 6 3 6 0 6 9 8\n",
      " 0 6 8 0 2 0 9 8 8 0 9 4 6 6 6 9 5 6 1 5 9 4 6 0 3 5 5 3 8 0 3 7 6 8 4 9 9\n",
      " 6 8 5 7 9 9 9 8 0 1 9 0 1 8 0 9 0 2 0 6 6 6 6 9 8 3 4 0 6 5 6 5 9 5 9 8 9\n",
      " 9 9 8 0 0 9 0 5 0 0 8 6 9 9 6 0 6 6 6 6 9 9 9 9 6 6 5 9 9 6 6 5 2 2 9 3 1\n",
      " 9 6 6 7 6 0 6 6 6 6 8 9 9 9 5 9 7 9 6 7 5 8 9 7 9 6 0 0 8 0 8 6 5 8 8 9 8\n",
      " 2 6 9 1 9 1 6 5 0 0 0 5 1 5 1 5 6 9 6 0 8 8 6 5 7 6 9 9 5 4 1 0 4 9 9 4 4\n",
      " 6 9 1 6 8 6 9 9 0 8 6 6 6 8 5 0 9 5 5 2 6 6 9 9 6 2 0 8 5 6 6 9 5 7 6 6 8\n",
      " 5 0 9 2 6 5 5 6 6 3 6 9 6 9 9 6 9 8 9 6 1 8 6 9 6 0 0 9 9 6 8 6 4 5 7 0 5\n",
      " 9 4 5 0 5 8 9 0 8 8 9 5 6 6 9 4 8 9 8 8 9 9 0 6 5 6 7 5 0 7 9 5 4 0 0 1 4\n",
      " 5 5 5 7 6 6 6 7 2 5 9 0 9 9 6 4 6 8 8 1 9 9 0 9 8 4 9 8 2 9 5 9 5 5 0 6 1\n",
      " 5 6 6 9 1 4 6 6 0 9 9 9 8 0 0 0 9 7 4 3 9 5 8 9 5 0 7 1 6 8 6 6 0 0 7 7 4\n",
      " 8 8 9 5 6 9 9 0 9 8 5 1 6 5 4 0 8 5 0 6 4 4 8 7 9 0 7 1 7 5 1 9 4 0 6 6 5\n",
      " 9 8 9 0 9 9 0 7 9 4 6 6 0 0 9 6 5 8 8 7 5 6 0 5 8 6 2 8 7 8 5 0 0 9 0 8 9\n",
      " 0 6 6 6 2 0 5 1 5 5 6 5 6 6 6 5 8 0 9 6 8 5 6 5 0 4 6 9 9 8 8 5 2 9 9 9 5\n",
      " 5 9 4 7 0 4 4 6 6 9 0 8 5 6 5 6 9 9 6 8 5 0 5 5 5 0 9 6 8 4 7 0 6 9 8 9 5\n",
      " 9 6 5 6 9 9 9 9 9 6 7 6 0 8 1 8 1 1 6 8 6 8 4 8 5 8 0 0 1 6 8 7 5 7 9 8 5\n",
      " 8]\n",
      "softmax on raw pixels final test set accuracy: 0.342000\n"
     ]
    }
   ],
   "source": [
    "# evaluate on test set\n",
    "# Evaluate the best softmax on test set\n",
    "y_test_pred = best_softmax.predict(X_test)\n",
    "print y_test\n",
    "print y_test_pred\n",
    "test_accuracy = np.mean(y_test == y_test_pred)\n",
    "print 'softmax on raw pixels final test set accuracy: %f' % (test_accuracy, )"
   ]
  },
  {
   "cell_type": "code",
   "execution_count": null,
   "metadata": {
    "collapsed": false
   },
   "outputs": [],
   "source": [
    "# Visualize the learned weights for each class\n",
    "w = best_softmax.W[:-1,:] # strip out the bias\n",
    "w = w.reshape(32, 32, 3, 10)\n",
    "\n",
    "w_min, w_max = np.min(w), np.max(w)\n",
    "\n",
    "classes = ['plane', 'car', 'bird', 'cat', 'deer', 'dog', 'frog', 'horse', 'ship', 'truck']\n",
    "for i in xrange(10):\n",
    "  plt.subplot(2, 5, i + 1)\n",
    "  \n",
    "  # Rescale the weights to be between 0 and 255\n",
    "  wimg = 255.0 * (w[:, :, :, i].squeeze() - w_min) / (w_max - w_min)\n",
    "  plt.imshow(wimg.astype('uint8'))\n",
    "  plt.axis('off')\n",
    "  plt.title(classes[i])"
   ]
  },
  {
   "cell_type": "code",
   "execution_count": null,
   "metadata": {
    "collapsed": true
   },
   "outputs": [],
   "source": []
  }
 ],
 "metadata": {
  "kernelspec": {
   "display_name": "Python 2",
   "language": "python",
   "name": "python2"
  },
  "language_info": {
   "codemirror_mode": {
    "name": "ipython",
    "version": 2
   },
   "file_extension": ".py",
   "mimetype": "text/x-python",
   "name": "python",
   "nbconvert_exporter": "python",
   "pygments_lexer": "ipython2",
   "version": "2.7.12"
  }
 },
 "nbformat": 4,
 "nbformat_minor": 0
}
